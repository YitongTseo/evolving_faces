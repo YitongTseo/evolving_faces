{
 "cells": [
  {
   "cell_type": "code",
   "execution_count": 1,
   "id": "729cb3bc",
   "metadata": {},
   "outputs": [
    {
     "name": "stdout",
     "output_type": "stream",
     "text": [
      "Num GPUs Available:  1\n"
     ]
    }
   ],
   "source": [
    "import tensorflow as tf\n",
    "print(\"Num GPUs Available: \", len(tf.config.list_physical_devices('GPU')))\n"
   ]
  },
  {
   "cell_type": "code",
   "execution_count": null,
   "id": "143362ea",
   "metadata": {},
   "outputs": [],
   "source": [
    "import tensorflow as tf\n",
    "\n",
    "from deepface import DeepFace\n",
    "import cv2\n",
    "img_path = \"quick_render.png\"\n",
    "result = DeepFace.analyze(img_path, actions=['emotion'])\n"
   ]
  },
  {
   "cell_type": "code",
   "execution_count": 15,
   "id": "f12fbf1b",
   "metadata": {},
   "outputs": [
    {
     "name": "stdout",
     "output_type": "stream",
     "text": [
      "{'angry': 1.2861880309097786, 'disgust': 0.000818852325814356, 'fear': 29.925556774470614, 'happy': 0.22580385157041857, 'sad': 7.912326330681225, 'surprise': 0.010981416489519788, 'neutral': 60.63832406034017}\n"
     ]
    }
   ],
   "source": [
    "# Print emotion probabilities\n",
    "print(result[0]['emotion'])"
   ]
  },
  {
   "cell_type": "code",
   "execution_count": null,
   "id": "565d2669",
   "metadata": {},
   "outputs": [],
   "source": [
    "# from fer import FER\n",
    "# import cv2\n",
    "\n",
    "# detector = FER(mtcnn=True)  # mtcnn=True is more accurate but slightly slower\n",
    "\n",
    "# img = cv2.imread(\"trial_neutral.png\")\n",
    "# result = detector.detect_emotions(img)\n",
    "\n",
    "# if result:\n",
    "#     emotions = result[0]['emotions']  # Dictionary of floats\n",
    "#     print(emotions)\n"
   ]
  }
 ],
 "metadata": {
  "kernelspec": {
   "display_name": "ethical_necromancy",
   "language": "python",
   "name": "python3"
  },
  "language_info": {
   "codemirror_mode": {
    "name": "ipython",
    "version": 3
   },
   "file_extension": ".py",
   "mimetype": "text/x-python",
   "name": "python",
   "nbconvert_exporter": "python",
   "pygments_lexer": "ipython3",
   "version": "3.11.8"
  }
 },
 "nbformat": 4,
 "nbformat_minor": 5
}
